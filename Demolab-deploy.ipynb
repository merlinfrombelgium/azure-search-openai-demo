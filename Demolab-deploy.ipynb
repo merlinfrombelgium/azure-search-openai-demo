{
 "cells": [
  {
   "cell_type": "code",
   "execution_count": null,
   "metadata": {
    "dotnet_interactive": {
     "language": "pwsh"
    },
    "polyglot_notebook": {
     "kernelName": "pwsh"
    }
   },
   "outputs": [],
   "source": [
    "azd auth login"
   ]
  },
  {
   "cell_type": "code",
   "execution_count": null,
   "metadata": {
    "dotnet_interactive": {
     "language": "pwsh"
    },
    "polyglot_notebook": {
     "kernelName": "pwsh"
    }
   },
   "outputs": [],
   "source": [
    "azd init -t azure-search-openai-demo"
   ]
  },
  {
   "attachments": {},
   "cell_type": "markdown",
   "metadata": {},
   "source": [
    "Run azd env set AZURE_OPENAI_SERVICE {Name of existing OpenAI service}\n",
    "Run azd env set AZURE_OPENAI_RESOURCE_GROUP {Name of existing resource group that OpenAI service is provisioned to}\n",
    "Run azd env set AZURE_OPENAI_CHATGPT_DEPLOYMENT {Name of existing ChatGPT deployment}. Only needed if your ChatGPT deployment is not the default 'chat'.\n",
    "Run azd env set AZURE_OPENAI_GPT_DEPLOYMENT {Name of existing GPT deployment}. Only needed if your ChatGPT deployment is not the default 'davinci'.\n",
    "Run azd up"
   ]
  },
  {
   "cell_type": "code",
   "execution_count": null,
   "metadata": {
    "dotnet_interactive": {
     "language": "pwsh"
    },
    "polyglot_notebook": {
     "kernelName": "pwsh"
    }
   },
   "outputs": [],
   "source": [
    "azd env set AZURE_OPENAI_SERVICE ai-demolab-eastus\n",
    "azd env set AZURE_OPENAI_RESOURCE_GROUP rg_gpt\n",
    "azd env set AZURE_OPENAI_CHATGPT_DEPLOYMENT chat\n",
    "azd env set AZURE_OPENAI_GPT_DEPLOYMENT davinci\n",
    "azd env set AZURE_STORAGE_ACCOUNT demolabgpt\n",
    "azd env set AZURE_STORAGE_RESOURCE_GROUP rg_gpt\n",
    "azd env set AZURE_FORMRECOGNIZER_SERVICE demolab-ai-form-recognizer\n",
    "azd env set AZURE_FORMRECOGNIZER_RESOURCE_GROUP rg_gpt\n",
    "azd env set AZURE_SEARCH_SERVICE demolab-ai-search\n",
    "azd env set AZURE_SEARCH_SERVICE_RESOURCE_GROUP rg_gpt\n"
   ]
  },
  {
   "cell_type": "code",
   "execution_count": null,
   "metadata": {
    "dotnet_interactive": {
     "language": "pwsh"
    },
    "polyglot_notebook": {
     "kernelName": "pwsh"
    }
   },
   "outputs": [],
   "source": [
    "azd up"
   ]
  }
 ],
 "metadata": {
  "kernelspec": {
   "display_name": ".NET (C#)",
   "language": "C#",
   "name": ".net-csharp"
  },
  "language_info": {
   "name": "polyglot-notebook"
  },
  "polyglot_notebook": {
   "kernelInfo": {
    "defaultKernelName": "csharp",
    "items": [
     {
      "aliases": [],
      "name": "csharp"
     },
     {
      "aliases": [],
      "languageName": "pwsh",
      "name": "pwsh"
     }
    ]
   }
  }
 },
 "nbformat": 4,
 "nbformat_minor": 2
}
